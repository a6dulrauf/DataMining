{
 "cells": [
  {
   "cell_type": "markdown",
   "metadata": {},
   "source": [
    "# Question 1"
   ]
  },
  {
   "cell_type": "code",
   "execution_count": 1,
   "metadata": {},
   "outputs": [],
   "source": [
    "import numpy as np\n",
    "import matplotlib.pyplot as plt\n",
    "import scipy.stats as sc\n",
    "from sklearn.linear_model import LinearRegression\n",
    "from itertools import combinations"
   ]
  },
  {
   "cell_type": "code",
   "execution_count": 2,
   "metadata": {},
   "outputs": [],
   "source": [
    "calories = [20, 25, 45, 30, 25, 15, 10, 20, 25,10]\n",
    "sodium = [0, 40, 80, 60, 30, 115, 0, 0, 20, 10]\n",
    "potassium = [230, 220, 460, 250, 270, 260, 140, 200, 190, 70]\n",
    "carbo_hydrate = [4, 6, 8, 7, 5, 4, 2, 5, 5, 2]\n",
    "dietary_fiber = [2, 2, 3, 2, 2, 2, 1, 3, 2, 1]\n",
    "sugars = [2, 4, 2, 5, 2, 2, 1, 2, 3, 1]\n",
    "protien = [2, 1, 4, 1, 2, 0, 1, 1, 1,0]\n",
    "\n",
    "#example dataset\n",
    "product_price = [23422, 112, 12122, 2333, 2344, 6785, 974, 999, 4564, 8800]\n",
    "rating = [5, 3, 5, 3, 4, 3, 4, 3, 3, 2]"
   ]
  },
  {
   "cell_type": "code",
   "execution_count": 3,
   "metadata": {},
   "outputs": [],
   "source": [
    "calories = np.array(calories)\n",
    "sodium = np.array(sodium)\n",
    "potassium = np.array(potassium)\n",
    "carbo_hydrate = np.array(carbo_hydrate)\n",
    "dietary_fiber = np.array(dietary_fiber)\n",
    "sugars = np.array(sugars)\n",
    "protien = np.array(protien)\n",
    "\n",
    "#example dataset\n",
    "product_price = np.array(product_price)\n",
    "rating = np.array(rating)"
   ]
  },
  {
   "cell_type": "markdown",
   "metadata": {},
   "source": [
    "# (a)"
   ]
  },
  {
   "cell_type": "markdown",
   "metadata": {},
   "source": [
    "### Builtin Numpy Methods"
   ]
  },
  {
   "cell_type": "code",
   "execution_count": 4,
   "metadata": {},
   "outputs": [
    {
     "data": {
      "text/plain": [
       "9209.0"
      ]
     },
     "execution_count": 4,
     "metadata": {},
     "output_type": "execute_result"
    }
   ],
   "source": [
    "potassium.var()"
   ]
  },
  {
   "cell_type": "code",
   "execution_count": 5,
   "metadata": {},
   "outputs": [
    {
     "data": {
      "text/plain": [
       "95.96353474106714"
      ]
     },
     "execution_count": 5,
     "metadata": {},
     "output_type": "execute_result"
    }
   ],
   "source": [
    "potassium.std()"
   ]
  },
  {
   "cell_type": "markdown",
   "metadata": {},
   "source": [
    "### My Methods"
   ]
  },
  {
   "cell_type": "code",
   "execution_count": 6,
   "metadata": {},
   "outputs": [],
   "source": [
    "def variance(p):\n",
    "    d = p - p.mean()\n",
    "    d_s = sum(d**2)\n",
    "    \n",
    "    return d_s/len(p)"
   ]
  },
  {
   "cell_type": "code",
   "execution_count": 7,
   "metadata": {},
   "outputs": [],
   "source": [
    "def standar_deviation(p):\n",
    "    d = p - p.mean()\n",
    "    d_s = sum(d**2)\n",
    "    var = d_s/len(p)\n",
    "    \n",
    "    return var**0.5"
   ]
  },
  {
   "cell_type": "code",
   "execution_count": 8,
   "metadata": {},
   "outputs": [
    {
     "data": {
      "text/plain": [
       "9209.0"
      ]
     },
     "execution_count": 8,
     "metadata": {},
     "output_type": "execute_result"
    }
   ],
   "source": [
    "variance(potassium)"
   ]
  },
  {
   "cell_type": "code",
   "execution_count": 9,
   "metadata": {},
   "outputs": [
    {
     "data": {
      "text/plain": [
       "95.96353474106714"
      ]
     },
     "execution_count": 9,
     "metadata": {},
     "output_type": "execute_result"
    }
   ],
   "source": [
    "standar_deviation(potassium)"
   ]
  },
  {
   "cell_type": "markdown",
   "metadata": {},
   "source": [
    "### Steps Calculations"
   ]
  },
  {
   "cell_type": "code",
   "execution_count": 10,
   "metadata": {},
   "outputs": [
    {
     "name": "stdout",
     "output_type": "stream",
     "text": [
      "[   1.   -9.  231.   21.   41.   31.  -89.  -29.  -39. -159.]\n",
      "Variance :  9209.0\n",
      "Standard Deviation :  95.96353474106714\n"
     ]
    }
   ],
   "source": [
    "diff = potassium - potassium.mean()\n",
    "print(diff)\n",
    "\n",
    "var = sum(diff**2)/len(potassium)\n",
    "std = var**(1/2)\n",
    "print(\"Variance : \",var)\n",
    "print(\"Standard Deviation : \",std)"
   ]
  },
  {
   "cell_type": "markdown",
   "metadata": {},
   "source": [
    "# (b)"
   ]
  },
  {
   "cell_type": "markdown",
   "metadata": {},
   "source": [
    "### My Method"
   ]
  },
  {
   "cell_type": "code",
   "execution_count": 13,
   "metadata": {},
   "outputs": [],
   "source": [
    "def covariance(*p):\n",
    "    comb = list(combinations(p, 2))\n",
    "    d_cov = np.array([[[x for x in t-t.mean()] for t in c] for c in comb])\n",
    "    #d_cov = np.array([[x for x in t-t.mean()] for t in p])\n",
    "    c = [np.prod(x, axis=0) for x in d_cov]\n",
    "    \n",
    "    s_cov = np.array([sum(x) for x in c])\n",
    "\n",
    "    return s_cov/len(p[0])\n",
    "    #d_cov = np.prod(d_cov, axis=0)\n",
    "    #return sum(d_cov)/len(d_cov)"
   ]
  },
  {
   "cell_type": "code",
   "execution_count": 34,
   "metadata": {},
   "outputs": [
    {
     "data": {
      "text/plain": [
       "array([-0.02,  0.2 ,  0.4 ])"
      ]
     },
     "execution_count": 34,
     "metadata": {},
     "output_type": "execute_result"
    }
   ],
   "source": [
    "covariance(sugars, protien, dietary_fiber)"
   ]
  },
  {
   "cell_type": "markdown",
   "metadata": {},
   "source": [
    "### Steps Each Attribute Convariance"
   ]
  },
  {
   "cell_type": "code",
   "execution_count": 36,
   "metadata": {},
   "outputs": [
    {
     "name": "stdout",
     "output_type": "stream",
     "text": [
      "[-0.28 -0.48 -1.08 -0.78 -0.28  0.52  0.42  0.12 -0.18  1.82]\n",
      "[-0.   0.  -0.4  0.  -0.  -0.   1.4 -0.4  0.   1.4]\n",
      "[ 0.  -0.   2.7 -0.   0.  -0.   0.3 -0.3 -0.   1.3]\n",
      "SUM :  -0.20000000000000018\n",
      "SUM :  2.0\n",
      "SUM :  4.0\n",
      "Covariance 1 :  -0.020000000000000018\n",
      "Covariance 2 :  0.2\n",
      "Covariance 3 :  0.4\n"
     ]
    }
   ],
   "source": [
    "d_diet = dietary_fiber - dietary_fiber.mean()\n",
    "d_sugar = sugars - sugars.mean()\n",
    "d_protien = protien - protien.mean()\n",
    "\n",
    "d_cov1 =  d_sugar * d_protien\n",
    "d_cov2 = d_sugar * d_diet\n",
    "d_cov3 = d_protien * d_diet\n",
    "\n",
    "print(d_cov1)\n",
    "print(d_cov2)\n",
    "print(d_cov3)\n",
    "s_cov1 = sum(d_cov1)\n",
    "s_cov2 = sum(d_cov2)\n",
    "s_cov3 = sum(d_cov3)\n",
    "\n",
    "print(\"SUM : \",s_cov1)\n",
    "print(\"SUM : \",s_cov2)\n",
    "print(\"SUM : \",s_cov3)\n",
    "\n",
    "cov1 = s_cov1/len(dietary_fiber)\n",
    "cov2 = s_cov2/len(dietary_fiber)\n",
    "cov3 = s_cov3/len(dietary_fiber)\n",
    "\n",
    "print(\"Covariance 1 : \",cov1)\n",
    "print(\"Covariance 2 : \",cov2)\n",
    "print(\"Covariance 3 : \",cov3)"
   ]
  },
  {
   "cell_type": "markdown",
   "metadata": {},
   "source": [
    "# (c) Correlation"
   ]
  },
  {
   "cell_type": "markdown",
   "metadata": {},
   "source": [
    "### Buitin Numpy Methods"
   ]
  },
  {
   "cell_type": "code",
   "execution_count": 17,
   "metadata": {},
   "outputs": [
    {
     "data": {
      "text/plain": [
       "array([[1.        , 0.54820169],\n",
       "       [0.54820169, 1.        ]])"
      ]
     },
     "execution_count": 17,
     "metadata": {},
     "output_type": "execute_result"
    }
   ],
   "source": [
    "np.corrcoef(product_price, rating)"
   ]
  },
  {
   "cell_type": "code",
   "execution_count": 18,
   "metadata": {},
   "outputs": [
    {
     "data": {
      "text/plain": [
       "(0.5482016866472738, 0.10086242345068283)"
      ]
     },
     "execution_count": 18,
     "metadata": {},
     "output_type": "execute_result"
    }
   ],
   "source": [
    "sc.pearsonr(rating, product_price)"
   ]
  },
  {
   "cell_type": "code",
   "execution_count": 19,
   "metadata": {},
   "outputs": [
    {
     "data": {
      "text/plain": [
       "(0.6156323689191786, 0.05811352428437063)"
      ]
     },
     "execution_count": 19,
     "metadata": {},
     "output_type": "execute_result"
    }
   ],
   "source": [
    "sc.pearsonr(sodium, potassium)"
   ]
  },
  {
   "cell_type": "code",
   "execution_count": 20,
   "metadata": {},
   "outputs": [
    {
     "data": {
      "text/plain": [
       "array([[1.        , 0.61563237],\n",
       "       [0.61563237, 1.        ]])"
      ]
     },
     "execution_count": 20,
     "metadata": {},
     "output_type": "execute_result"
    }
   ],
   "source": [
    "np.corrcoef(sodium, potassium)"
   ]
  },
  {
   "cell_type": "markdown",
   "metadata": {},
   "source": [
    "### My Method"
   ]
  },
  {
   "cell_type": "code",
   "execution_count": 21,
   "metadata": {},
   "outputs": [],
   "source": [
    "def correlation_dot(p, q):\n",
    "    _p = (p-p.mean())/p.std()\n",
    "    _q = (q-q.mean())/q.std()\n",
    "    return _p.dot(_q)/len(p)"
   ]
  },
  {
   "cell_type": "code",
   "execution_count": 22,
   "metadata": {},
   "outputs": [
    {
     "data": {
      "text/plain": [
       "0.6156323689191787"
      ]
     },
     "execution_count": 22,
     "metadata": {},
     "output_type": "execute_result"
    }
   ],
   "source": [
    "correlation_dot(sodium, potassium)"
   ]
  },
  {
   "cell_type": "markdown",
   "metadata": {},
   "source": [
    "# (d) Regression"
   ]
  },
  {
   "cell_type": "code",
   "execution_count": 24,
   "metadata": {},
   "outputs": [],
   "source": [
    "x = potassium.reshape(-1,1)\n",
    "y = calories"
   ]
  },
  {
   "cell_type": "code",
   "execution_count": 25,
   "metadata": {},
   "outputs": [
    {
     "data": {
      "text/plain": [
       "LinearRegression(copy_X=True, fit_intercept=True, n_jobs=None,\n",
       "         normalize=False)"
      ]
     },
     "execution_count": 25,
     "metadata": {},
     "output_type": "execute_result"
    }
   ],
   "source": [
    "model = LinearRegression()\n",
    "model.fit(x, y)"
   ]
  },
  {
   "cell_type": "code",
   "execution_count": 26,
   "metadata": {},
   "outputs": [
    {
     "name": "stdout",
     "output_type": "stream",
     "text": [
      "[22.58985775 21.69128027 43.25713975 24.3870127  26.18416766 25.28559018\n",
      " 14.50266044 19.89412531 18.99554783  8.21261809]\n"
     ]
    }
   ],
   "source": [
    "y_pred = model.predict(x)\n",
    "print(y_pred)"
   ]
  },
  {
   "cell_type": "code",
   "execution_count": 27,
   "metadata": {},
   "outputs": [
    {
     "name": "stdout",
     "output_type": "stream",
     "text": [
      "m :  [0.08985775]\n",
      "c :  1.9225757411228166\n"
     ]
    }
   ],
   "source": [
    "print(\"m : \",model.coef_)\n",
    "print(\"c : \", model.intercept_)"
   ]
  },
  {
   "cell_type": "code",
   "execution_count": 28,
   "metadata": {},
   "outputs": [
    {
     "data": {
      "image/png": "[encoded data removed]",
      "text/plain": [
       "<Figure size 432x288 with 1 Axes>"
      ]
     },
     "metadata": {
      "needs_background": "light"
     },
     "output_type": "display_data"
    }
   ],
   "source": [
    "plt.scatter(x, y)\n",
    "plt.plot(x, y_pred, color = 'orange')\n",
    "plt.show()"
   ]
  },
  {
   "cell_type": "code",
   "execution_count": 29,
   "metadata": {},
   "outputs": [
    {
     "name": "stdout",
     "output_type": "stream",
     "text": [
      "Error :  [ 2.58985775  3.30871973  1.74286025  5.6129873   1.18416766 10.28559018\n",
      "  4.50266044  0.10587469  6.00445217  1.78738191]\n",
      "Mean Absolute Error :  3.7124552068628516\n"
     ]
    }
   ],
   "source": [
    "err = abs(y - y_pred)\n",
    "print(\"Error : \", err)\n",
    "print(\"Mean Absolute Error : \", err.mean())"
   ]
  },
  {
   "cell_type": "code",
   "execution_count": 30,
   "metadata": {},
   "outputs": [
    {
     "data": {
      "text/plain": [
       "3.7124552068628516"
      ]
     },
     "execution_count": 30,
     "metadata": {},
     "output_type": "execute_result"
    }
   ],
   "source": [
    "err.mean()"
   ]
  },
  {
   "cell_type": "code",
   "execution_count": null,
   "metadata": {},
   "outputs": [],
   "source": []
  },
  {
   "cell_type": "code",
   "execution_count": null,
   "metadata": {},
   "outputs": [],
   "source": []
  },
  {
   "cell_type": "code",
   "execution_count": null,
   "metadata": {},
   "outputs": [],
   "source": []
  },
  {
   "cell_type": "code",
   "execution_count": null,
   "metadata": {},
   "outputs": [],
   "source": []
  }
 ],
 "metadata": {
  "kernelspec": {
   "display_name": "Python 3",
   "language": "python",
   "name": "python3"
  },
  "language_info": {
   "codemirror_mode": {
    "name": "ipython",
    "version": 3
   },
   "file_extension": ".py",
   "mimetype": "text/x-python",
   "name": "python",
   "nbconvert_exporter": "python",
   "pygments_lexer": "ipython3",
   "version": "3.7.3"
  }
 },
 "nbformat": 4,
 "nbformat_minor": 2
}
